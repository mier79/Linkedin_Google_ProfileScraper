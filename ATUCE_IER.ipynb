{
  "nbformat": 4,
  "nbformat_minor": 0,
  "metadata": {
    "colab": {
      "name": "ATUCE-IER.ipynb",
      "provenance": [],
      "collapsed_sections": [],
      "authorship_tag": "ABX9TyNdj2r5Vy5DDbtZuynj8VvJ",
      "include_colab_link": true
    },
    "kernelspec": {
      "name": "python3",
      "display_name": "Python 3"
    },
    "language_info": {
      "name": "python"
    }
  },
  "cells": [
    {
      "cell_type": "markdown",
      "metadata": {
        "id": "view-in-github",
        "colab_type": "text"
      },
      "source": [
        "<a href=\"https://colab.research.google.com/github/mier79/Linkedin_Google_ProfileScraper/blob/main/ATUCE_IER.ipynb\" target=\"_parent\"><img src=\"https://colab.research.google.com/assets/colab-badge.svg\" alt=\"Open In Colab\"/></a>"
      ]
    },
    {
      "cell_type": "markdown",
      "source": [
        "# Importing the libraries"
      ],
      "metadata": {
        "id": "rK90QXT2rpIw"
      }
    },
    {
      "cell_type": "code",
      "source": [
        "import numpy as np\n",
        "import matplotlib.pyplot as plt\n",
        "import pandas as pd\n",
        "from sklearn.impute import SimpleImputer\n",
        "from numpy import nan"
      ],
      "metadata": {
        "id": "s_0h2O9yrv8j"
      },
      "execution_count": null,
      "outputs": []
    },
    {
      "cell_type": "markdown",
      "source": [
        "# Importing the dataset\n"
      ],
      "metadata": {
        "id": "3rH-SUgCr1nU"
      }
    },
    {
      "cell_type": "code",
      "source": [
        "dataset =  pd.DataFrame(pd.read_excel('ATUCE_-_Data_Scientist_-_Case_study_data_2022_02.xlsx'))\n",
        "dataset = dataset.drop(columns=['EBE(retraité des loyers de leasing) 15', 'EBE(retraité des loyers de leasing) 16', 'EBE(retraité des loyers de leasing) 17', 'EBE(retraité des loyers de leasing) 18', 'Emprunteur', 'année de création', 'effectifs','EBE(retraité des loyers de leasing) 16','EBE(retraité des loyers de leasing) 17', 'EBE(retraité des loyers de leasing) 18','Marge d\\'EBE 15', 'Marge d\\'EBE 16' ])\n",
        "dataset = dataset.drop(columns=['Nombre de mois de la période 15', 'Nombre de mois de la période 16','Nombre de mois de la période 17','Nombre de mois de la période 18','Marge d\\'EBE 17', 'Marge d\\'EBE 18', 'Resultat Net 15','Resultat Net 16', 'Resultat Net 17', 'Resultat Net 18'])\n",
        "X = dataset.loc[:, dataset.columns != 'Taux'].values                  \n",
        "y = dataset['Taux'].values\n",
        "print(X)"
      ],
      "metadata": {
        "colab": {
          "base_uri": "https://localhost:8080/"
        },
        "id": "eUlBWOuPr65U",
        "outputId": "7959b2b0-2d5b-4ad5-8f47-c3f11824a505"
      },
      "execution_count": null,
      "outputs": [
        {
          "output_type": "stream",
          "name": "stdout",
          "text": [
            "[[755334684 'France' 48 ... 367 252 200.0]\n",
            " [666598628 'Espagne' 48 ... nan nan nan]\n",
            " [528199436 'Pays-Bas' 48 ... 102 -19 71.0]\n",
            " ...\n",
            " [754851890 'Espagne' 60 ... nan nan nan]\n",
            " [79698983 'Espagne' 36 ... nan nan nan]\n",
            " [143409816 'Espagne' 60 ... nan nan nan]]\n"
          ]
        }
      ]
    },
    {
      "cell_type": "markdown",
      "source": [
        "# Encoding categorical data"
      ],
      "metadata": {
        "id": "XhO8h5Fy_ym6"
      }
    },
    {
      "cell_type": "code",
      "source": [
        "from sklearn.compose import ColumnTransformer\n",
        "from sklearn.preprocessing import OneHotEncoder\n",
        "ct = ColumnTransformer(transformers=[('encoder', OneHotEncoder(), [1]), ('encoder2', OneHotEncoder(), [4])], remainder='passthrough')\n",
        "X = np.array(ct.fit_transform(X))\n",
        "print(X)"
      ],
      "metadata": {
        "colab": {
          "base_uri": "https://localhost:8080/"
        },
        "id": "1c0LYuwhABAT",
        "outputId": "b5e1fe83-592d-4bb1-e99e-a8dbf98d6691"
      },
      "execution_count": null,
      "outputs": [
        {
          "output_type": "stream",
          "name": "stdout",
          "text": [
            "[[0.0 0.0 1.0 ... 367 252 200.0]\n",
            " [0.0 1.0 0.0 ... nan nan nan]\n",
            " [0.0 0.0 0.0 ... 102 -19 71.0]\n",
            " ...\n",
            " [0.0 1.0 0.0 ... nan nan nan]\n",
            " [0.0 1.0 0.0 ... nan nan nan]\n",
            " [0.0 1.0 0.0 ... nan nan nan]]\n"
          ]
        }
      ]
    },
    {
      "cell_type": "markdown",
      "source": [
        "#Cleaning the dataset"
      ],
      "metadata": {
        "id": "2L_l9CUOvr1Z"
      }
    },
    {
      "cell_type": "code",
      "source": [
        "imputer = SimpleImputer(missing_values=nan, strategy='mean')\n",
        "\n",
        "\n",
        "for x in range(66):\n",
        "  \n",
        "  X[:,x] = [str(s).replace(\" \", \"\") for s in X[:,x]]\n",
        "  X[:,x] = [str(s).replace(\"mois\", \"\") for s in X[:,x]]\n",
        "  X[:,x] = [str(s).replace(\"5\\xa0000\\xa0000\\xa0\", \"\") for s in X[:,x]]\n",
        "  X[:,x] = [str(s).replace(\"à\", \"\") for s in X[:,x]]\n",
        "  X[:,x] = [str(s).replace(\"\\n\", \"\") for s in X[:,x]]\n",
        "  X[:,x] = [str(s).replace(\"NaN\", \"\") for s in X[:,x]]\n",
        "  X[:,x] = [str(s).replace(\"nan\", \"\") for s in X[:,x]]\n",
        "  X[:,x] = [str(s).replace(\"NA\", \"\") for s in X[:,x]]\n",
        "  X[:,x] = [str(s).replace(\"n/a\", \"\") for s in X[:,x]]\n",
        "  X[:,x] = [str(s).replace(\"N/A\", \"\") for s in X[:,x]]\n",
        "  X[:,x] = [str(s).replace(\"€\", \"\") for s in X[:,x]]\n",
        "  X[:,x] = [str(s).replace(\",\", \".\") for s in X[:,x]] \n",
        "  X[:,x] = [str(s).replace(\"%\", \"\") for s in X[:,x]]\n",
        "  X[:,x] = [str(s).replace(\"*\", \"\") for s in X[:,x]]\n",
        "  X[:,x] = [str(s).replace(\"-\", \"\") for s in X[:,x]]\n",
        "  X[:,x] = [str(s).strip(' ') for s in X[:,x]]\n",
        "   \n",
        "X = imputer.fit_transform(X)\n",
        "  \n",
        "y = [str(s).replace(\" \", \"\") for s in y]\n",
        "y = [str(s).replace(\"%\", \"\") for s in y]\n",
        "y = [str(s).replace(\",\", \".\") for s in y]\n",
        "\n",
        "y = imputer.fit_transform(y)"
      ],
      "metadata": {
        "colab": {
          "base_uri": "https://localhost:8080/",
          "height": 241
        },
        "id": "dLtymSzEvvoh",
        "outputId": "38d68cf6-d8e3-4ff4-8cc7-276448993416"
      },
      "execution_count": null,
      "outputs": [
        {
          "output_type": "error",
          "ename": "ValueError",
          "evalue": "ignored",
          "traceback": [
            "\u001b[0;31m---------------------------------------------------------------------------\u001b[0m",
            "\u001b[0;31mValueError\u001b[0m                                Traceback (most recent call last)",
            "\u001b[0;32m<ipython-input-7-84f7fcbf7105>\u001b[0m in \u001b[0;36m<module>\u001b[0;34m()\u001b[0m\n\u001b[1;32m     21\u001b[0m   \u001b[0mX\u001b[0m\u001b[0;34m[\u001b[0m\u001b[0;34m:\u001b[0m\u001b[0;34m,\u001b[0m\u001b[0mx\u001b[0m\u001b[0;34m]\u001b[0m \u001b[0;34m=\u001b[0m \u001b[0;34m[\u001b[0m\u001b[0mstr\u001b[0m\u001b[0;34m(\u001b[0m\u001b[0ms\u001b[0m\u001b[0;34m)\u001b[0m\u001b[0;34m.\u001b[0m\u001b[0mstrip\u001b[0m\u001b[0;34m(\u001b[0m\u001b[0;34m' '\u001b[0m\u001b[0;34m)\u001b[0m \u001b[0;32mfor\u001b[0m \u001b[0ms\u001b[0m \u001b[0;32min\u001b[0m \u001b[0mX\u001b[0m\u001b[0;34m[\u001b[0m\u001b[0;34m:\u001b[0m\u001b[0;34m,\u001b[0m\u001b[0mx\u001b[0m\u001b[0;34m]\u001b[0m\u001b[0;34m]\u001b[0m\u001b[0;34m\u001b[0m\u001b[0;34m\u001b[0m\u001b[0m\n\u001b[1;32m     22\u001b[0m \u001b[0;34m\u001b[0m\u001b[0m\n\u001b[0;32m---> 23\u001b[0;31m \u001b[0mX\u001b[0m \u001b[0;34m=\u001b[0m \u001b[0mX\u001b[0m\u001b[0;34m.\u001b[0m\u001b[0mastype\u001b[0m\u001b[0;34m(\u001b[0m\u001b[0mnp\u001b[0m\u001b[0;34m.\u001b[0m\u001b[0mfloat\u001b[0m\u001b[0;34m)\u001b[0m\u001b[0;34m\u001b[0m\u001b[0;34m\u001b[0m\u001b[0m\n\u001b[0m\u001b[1;32m     24\u001b[0m \u001b[0mX\u001b[0m \u001b[0;34m=\u001b[0m \u001b[0mimputer\u001b[0m\u001b[0;34m.\u001b[0m\u001b[0mfit_transform\u001b[0m\u001b[0;34m(\u001b[0m\u001b[0mX\u001b[0m\u001b[0;34m)\u001b[0m\u001b[0;34m\u001b[0m\u001b[0;34m\u001b[0m\u001b[0m\n\u001b[1;32m     25\u001b[0m \u001b[0;34m\u001b[0m\u001b[0m\n",
            "\u001b[0;31mValueError\u001b[0m: could not convert string to float: "
          ]
        }
      ]
    },
    {
      "cell_type": "markdown",
      "source": [
        "# Splitting the dataset into the Training set and Test set"
      ],
      "metadata": {
        "id": "hX1qHlKFESVN"
      }
    },
    {
      "cell_type": "code",
      "source": [
        "from sklearn.model_selection import train_test_split\n",
        "X_train, X_test, y_train, y_test = train_test_split(X, y, test_size = 0.2, random_state = 0)"
      ],
      "metadata": {
        "id": "8uReyThLEZWT"
      },
      "execution_count": null,
      "outputs": []
    },
    {
      "cell_type": "markdown",
      "source": [
        "# Training the Multiple Linear Regression model on the Training set"
      ],
      "metadata": {
        "id": "eupeOQLnEq6Y"
      }
    },
    {
      "cell_type": "code",
      "source": [
        "from sklearn.linear_model import LinearRegression\n",
        "regressor = LinearRegression()\n",
        "regressor.fit(X_train, y_train)"
      ],
      "metadata": {
        "id": "96F7mZZxEsQo"
      },
      "execution_count": null,
      "outputs": []
    },
    {
      "cell_type": "markdown",
      "source": [
        "# Predicting the Test set results"
      ],
      "metadata": {
        "id": "GqpzuGexbnOZ"
      }
    },
    {
      "cell_type": "code",
      "source": [
        "y_pred = regressor.predict(X_test)\n",
        "np.set_printoptions(precision=2)\n",
        "print(np.concatenate((y_pred.reshape(len(y_pred),1), y_test.reshape(len(y_test),1)),1))"
      ],
      "metadata": {
        "id": "pSaqoq9lbqI4"
      },
      "execution_count": null,
      "outputs": []
    }
  ]
}